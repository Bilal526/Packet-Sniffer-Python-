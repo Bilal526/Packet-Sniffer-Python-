{
 "cells": [
  {
   "cell_type": "markdown",
   "metadata": {},
   "source": [
    "# Importing Required Libraries"
   ]
  },
  {
   "cell_type": "code",
   "execution_count": 2,
   "metadata": {},
   "outputs": [
    {
     "name": "stdout",
     "output_type": "stream",
     "text": [
      "Collecting pip\n",
      "  Downloading https://files.pythonhosted.org/packages/5f/25/e52d3f31441505a5f3af41213346e5b6c221c9e086a166f3703d2ddaf940/pip-18.0-py2.py3-none-any.whl (1.3MB)\n",
      "Installing collected packages: pip\n",
      "  Found existing installation: pip 9.0.1\n",
      "    Uninstalling pip-9.0.1:\n",
      "      Successfully uninstalled pip-9.0.1\n",
      "Successfully installed pip-18.0\n"
     ]
    }
   ],
   "source": [
    "!python -m pip install --upgrade pip"
   ]
  },
  {
   "cell_type": "code",
   "execution_count": 14,
   "metadata": {},
   "outputs": [
    {
     "name": "stdout",
     "output_type": "stream",
     "text": [
      "Collecting IPy\n",
      "  Downloading https://files.pythonhosted.org/packages/88/28/79162bfc351a3f1ab44d663ab3f03fb495806fdb592170990a1568ffbf63/IPy-0.83.tar.gz\n",
      "Building wheels for collected packages: IPy\n",
      "  Running setup.py bdist_wheel for IPy: started\n",
      "  Running setup.py bdist_wheel for IPy: finished with status 'done'\n",
      "  Stored in directory: C:\\Users\\Hamza\\AppData\\Local\\pip\\Cache\\wheels\\51\\9a\\f1\\32eeda4d895db4153e86b59a4ffd4582d344d96c66b5459788\n",
      "Successfully built IPy\n",
      "Installing collected packages: IPy\n",
      "Successfully installed IPy-0.83\n"
     ]
    }
   ],
   "source": [
    "!pip install IPy"
   ]
  },
  {
   "cell_type": "code",
   "execution_count": 3,
   "metadata": {},
   "outputs": [
    {
     "name": "stdout",
     "output_type": "stream",
     "text": [
      "Collecting https://files.pythonhosted.org/packages/dc/f2/9e1a2953d4d824e183ac033e3d223055e40e695fa6db2cb3e94a864eaa84/python-nmap-0.6.1.tar.gz\n",
      "  Downloading https://files.pythonhosted.org/packages/dc/f2/9e1a2953d4d824e183ac033e3d223055e40e695fa6db2cb3e94a864eaa84/python-nmap-0.6.1.tar.gz (41kB)\n",
      "Building wheels for collected packages: python-nmap\n",
      "  Running setup.py bdist_wheel for python-nmap: started\n",
      "  Running setup.py bdist_wheel for python-nmap: finished with status 'done'\n",
      "  Stored in directory: C:\\Users\\Hamza\\AppData\\Local\\pip\\Cache\\wheels\\cb\\de\\b1\\41e388f95afba300c0840ef312601d75c91100681a08c56284\n",
      "Successfully built python-nmap\n",
      "Installing collected packages: python-nmap\n",
      "Successfully installed python-nmap-0.6.1\n"
     ]
    }
   ],
   "source": [
    "!pip install https://files.pythonhosted.org/packages/dc/f2/9e1a2953d4d824e183ac033e3d223055e40e695fa6db2cb3e94a864eaa84/python-nmap-0.6.1.tar.gz"
   ]
  },
  {
   "cell_type": "code",
   "execution_count": 1,
   "metadata": {
    "collapsed": true
   },
   "outputs": [],
   "source": [
    "from socket import *\n",
    "import struct\n",
    "import sys\n",
    "import re\n",
    "import platform\n",
    "from nmap import *\n",
    "import time\n",
    "import errno\n",
    "import os\n",
    "import argparse\n",
    "import subprocess\n",
    "from IPy import IP"
   ]
  },
  {
   "cell_type": "markdown",
   "metadata": {},
   "source": [
    "# Socket Binding "
   ]
  },
  {
   "cell_type": "code",
   "execution_count": 2,
   "metadata": {},
   "outputs": [
    {
     "ename": "OSError",
     "evalue": "[WinError 10045] The attempted operation is not supported for the type of object referenced",
     "output_type": "error",
     "traceback": [
      "\u001b[1;31m---------------------------------------------------------------------------\u001b[0m",
      "\u001b[1;31mOSError\u001b[0m                                   Traceback (most recent call last)",
      "\u001b[1;32m<ipython-input-2-942de5ce1085>\u001b[0m in \u001b[0;36m<module>\u001b[1;34m()\u001b[0m\n\u001b[0;32m      5\u001b[0m \u001b[0ms\u001b[0m\u001b[1;33m.\u001b[0m\u001b[0mbind\u001b[0m\u001b[1;33m(\u001b[0m\u001b[1;33m(\u001b[0m\u001b[0mHOST\u001b[0m\u001b[1;33m,\u001b[0m \u001b[1;36m0\u001b[0m\u001b[1;33m)\u001b[0m\u001b[1;33m)\u001b[0m\u001b[1;33m\u001b[0m\u001b[0m\n\u001b[0;32m      6\u001b[0m \u001b[0ms\u001b[0m\u001b[1;33m.\u001b[0m\u001b[0msetsockopt\u001b[0m\u001b[1;33m(\u001b[0m\u001b[0mIPPROTO_IP\u001b[0m\u001b[1;33m,\u001b[0m \u001b[0mIP_HDRINCL\u001b[0m\u001b[1;33m,\u001b[0m \u001b[1;36m1\u001b[0m\u001b[1;33m)\u001b[0m\u001b[1;33m\u001b[0m\u001b[0m\n\u001b[1;32m----> 7\u001b[1;33m \u001b[0ms\u001b[0m\u001b[1;33m.\u001b[0m\u001b[0mioctl\u001b[0m\u001b[1;33m(\u001b[0m\u001b[0mSIO_RCVALL\u001b[0m\u001b[1;33m,\u001b[0m \u001b[0mRCVALL_ON\u001b[0m\u001b[1;33m)\u001b[0m\u001b[1;33m\u001b[0m\u001b[0m\n\u001b[0m",
      "\u001b[1;31mOSError\u001b[0m: [WinError 10045] The attempted operation is not supported for the type of object referenced"
     ]
    }
   ],
   "source": [
    "HOST = gethostbyname(gethostname())\n",
    "\n",
    "# create a raw socket and bind it to the public interface\n",
    "s = socket(AF_INET, SOCK_RAW, IPPROTO_IP)\n",
    "s.bind((HOST, 0))\n",
    "s.setsockopt(IPPROTO_IP, IP_HDRINCL, 1)\n",
    "s.ioctl(SIO_RCVALL, RCVALL_ON)"
   ]
  },
  {
   "cell_type": "markdown",
   "metadata": {},
   "source": [
    "# Receiving a Datagram"
   ]
  },
  {
   "cell_type": "code",
   "execution_count": 3,
   "metadata": {
    "collapsed": true
   },
   "outputs": [],
   "source": [
    "def receiveData(s):\n",
    "    data = ''\n",
    "    try:\n",
    "        data = s.recvfrom(65565)\n",
    "    except timeout:\n",
    "        data = ''\n",
    "    except:\n",
    "        print (\"An error happened: \")\n",
    "        sys.exc_info()\n",
    "    return data[0]"
   ]
  },
  {
   "cell_type": "markdown",
   "metadata": {},
   "source": [
    "# Analyzing IP header"
   ]
  },
  {
   "cell_type": "markdown",
   "metadata": {},
   "source": [
    "\n",
    "# Determining Type of Service "
   ]
  },
  {
   "cell_type": "code",
   "execution_count": 4,
   "metadata": {
    "collapsed": true
   },
   "outputs": [],
   "source": [
    "def getTOS(data):\n",
    "    precedence = {0: \"Routine\", 1: \"Priority\", 2: \"Immediate\", 3: \"Flash\", 4: \"Flash override\", 5: \"CRITIC/ECP\",\n",
    "                  6: \"Internetwork control\", 7: \"Network control\"}\n",
    "    delay = {0: \"Normal delay\", 1: \"Low delay\"}\n",
    "    throughput = {0: \"Normal throughput\", 1: \"High throughput\"}\n",
    "    reliability = {0: \"Normal reliability\", 1: \"High reliability\"}\n",
    "    cost = {0: \"Normal monetary cost\", 1: \"Minimize monetary cost\"}\n",
    "\n",
    "    #   get the 3rd bit and shift right\n",
    "    D = data & 0x10\n",
    "    D >>= 4\n",
    "    #   get the 4th bit and shift right\n",
    "    T = data & 0x8\n",
    "    T >>= 3\n",
    "    #   get the 5th bit and shift right\n",
    "    R = data & 0x4\n",
    "    R >>= 2\n",
    "    #   get the 6th bit and shift right\n",
    "    M = data & 0x2\n",
    "    M >>= 1\n",
    "    #   the 7th bit is empty and shouldn't be analyzed\n",
    "\n",
    "    tabs = '\\n\\t\\t\\t'\n",
    "    TOS = precedence[data >> 5] + tabs + delay[D] + tabs + throughput[T] + tabs + \\\n",
    "          reliability[R] + tabs + cost[M]\n",
    "    return TOS"
   ]
  },
  {
   "cell_type": "markdown",
   "metadata": {},
   "source": [
    "# Determining Flags"
   ]
  },
  {
   "cell_type": "code",
   "execution_count": 5,
   "metadata": {
    "collapsed": true
   },
   "outputs": [],
   "source": [
    "def getFlags(data):\n",
    "    flagR = {0: \"0 - Reserved bit\"}\n",
    "    flagDF = {0: \"0 - Fragment if necessary\", 1: \"1 - Do not fragment\"}\n",
    "    flagMF = {0: \"0 - Last fragment\", 1: \"1 - More fragments\"}\n",
    "\n",
    "    #   get the 1st bit and shift right\n",
    "    R = data & 0x8000\n",
    "    R >>= 15\n",
    "    #   get the 2nd bit and shift right\n",
    "    DF = data & 0x4000\n",
    "    DF >>= 14\n",
    "    #   get the 3rd bit and shift right\n",
    "    MF = data & 0x2000\n",
    "    MF >>= 13\n",
    "\n",
    "    tabs = '\\n\\t\\t\\t'\n",
    "    flags = flagR[R] + tabs + flagDF[DF] + tabs + flagMF[MF]\n",
    "    return flags\n"
   ]
  },
  {
   "cell_type": "code",
   "execution_count": 6,
   "metadata": {},
   "outputs": [
    {
     "name": "stdout",
     "output_type": "stream",
     "text": [
      "An IP packet with the size 52 was captured.\n",
      "Raw data:  b'E\\x00\\x004m\\x85@\\x00\\x80\\x06\\xa4FoX\\xa7=j3h/\\x14b\\x12\\xa5\\xde\\xbb\\x17\\xa9\\xb5\\xd2\\xf1\\xc2\\x80\\x10\\x01\\x03{\\x99\\x00\\x00\\x01\\x01\\x05\\n\\xb5\\xd2\\xf1\\xbe\\xb5\\xd2\\xf1\\xc2'\n",
      "\n",
      "Parsed data\n",
      "Version:\t\t4\n",
      "Header Length:\t\t20 bytes\n",
      "Type of Service:\tRoutine\n",
      "\t\t\tNormal delay\n",
      "\t\t\tNormal throughput\n",
      "\t\t\tNormal reliability\n",
      "\t\t\tNormal monetary cost\n",
      "Length:\t\t\t52\n",
      "ID:\t\t\t0x6d85 (28037)\n",
      "Flags:\t\t\t0 - Reserved bit\n",
      "\t\t\t1 - Do not fragment\n",
      "\t\t\t0 - Last fragment\n",
      "Fragment offset:\t0\n",
      "TTL:\t\t\t128\n",
      "Protocol:\t\t6\n",
      "Checksum:\t\t42054\n",
      "Source:\t\t\t111.88.167.61\n",
      "Destination:\t\t106.51.104.47\n",
      "Header-data offset:\t20\n"
     ]
    }
   ],
   "source": [
    "data = receiveData(s)\n",
    "\n",
    "# get the IP header (the first 20 bytes) and unpack them\n",
    "# B - unsigned char (1)\n",
    "# H - unsigned short (2)\n",
    "# s - string\n",
    "unpackedData = struct.unpack('!BBHHHBBH4s4s', data[:20])\n",
    "\n",
    "version_IHL = unpackedData[0]\n",
    "version = version_IHL >> 4  # version of the IP\n",
    "IHL = version_IHL & 0xF  # internet header length\n",
    "offset = IHL * 4\n",
    "TOS = unpackedData[1]  # type of service\n",
    "totalLength = unpackedData[2]\n",
    "ID = unpackedData[3]  # identification\n",
    "flags = unpackedData[4]\n",
    "fragmentOffset = unpackedData[4] & 0x1FFF\n",
    "TTL = unpackedData[5]  # time to live\n",
    "protocol2 = unpackedData[6]\n",
    "checksum = unpackedData[7]\n",
    "sourceAddress = inet_ntoa(unpackedData[8])\n",
    "destinationAddress = inet_ntoa(unpackedData[9])\n",
    "\n",
    "print (\"An IP packet with the size %i was captured.\" % (unpackedData[2]))\n",
    "print (\"Raw data: \" ,    data)\n",
    "print (\"\\nParsed data\")\n",
    "print (\"Version:\\t\\t\" + str(version))\n",
    "print (\"Header Length:\\t\\t\" + str(IHL * 4) + \" bytes\")\n",
    "print (\"Type of Service:\\t\" + getTOS(TOS))\n",
    "print (\"Length:\\t\\t\\t\" + str(totalLength))\n",
    "print (\"ID:\\t\\t\\t\" + str(hex(ID)) + \" (\" + str(ID) + \")\")\n",
    "print (\"Flags:\\t\\t\\t\" + getFlags(flags))\n",
    "print (\"Fragment offset:\\t\" + str(fragmentOffset))\n",
    "print (\"TTL:\\t\\t\\t\" + str(TTL))\n",
    "print (\"Protocol:\\t\\t\" + str(protocol2))\n",
    "print (\"Checksum:\\t\\t\" + str(checksum))\n",
    "print (\"Source:\\t\\t\\t\" + sourceAddress)\n",
    "print (\"Destination:\\t\\t\" + destinationAddress)\n",
    "#print \"Payload:\\n\" + data[20:])\n",
    "print (\"Header-data offset:\\t\" + str(offset))"
   ]
  },
  {
   "cell_type": "markdown",
   "metadata": {},
   "source": [
    "# Analyzing TCP/UDP Header"
   ]
  },
  {
   "cell_type": "code",
   "execution_count": 7,
   "metadata": {},
   "outputs": [
    {
     "name": "stdout",
     "output_type": "stream",
     "text": [
      "TCP protocol is used in transport layer\n",
      "source port no:\t\t\t25106\n",
      "destination port no:\t\t42462\n",
      "sequence number:\t\t3138890165\n",
      "acknowledgment number:\t\t3539059328\n",
      "window size:\t\t\t891\n"
     ]
    }
   ],
   "source": [
    "#for tcp/udp packet\n",
    "if protocol2 == 6:\n",
    "    unpackedtcpData = struct.unpack('!HHLLHH', data[offset+1:offset+17])\n",
    "    source_port = unpackedtcpData[0]\n",
    "    destination_port = unpackedtcpData[1]\n",
    "    sequence_number = unpackedtcpData[2]\n",
    "    acnowledgment_number = unpackedtcpData[3]\n",
    "    offset_reserved_flag = unpackedtcpData[4]\n",
    "    window_size = unpackedtcpData[5]\n",
    "    print (\"TCP protocol is used in transport layer\")\n",
    "    print (\"source port no:\\t\\t\\t\" + str(source_port))\n",
    "    print (\"destination port no:\\t\\t\" + str(destination_port))\n",
    "    print (\"sequence number:\\t\\t\" + str(sequence_number))\n",
    "    print (\"acknowledgment number:\\t\\t\" + str(acnowledgment_number))\n",
    "    print (\"window size:\\t\\t\\t\" + str(window_size))\n",
    "\n",
    "if protocol2==17:\n",
    "    print (\"UDP protocol is used in transport layer\")"
   ]
  },
  {
   "cell_type": "markdown",
   "metadata": {},
   "source": [
    "# OS Finger-printing"
   ]
  },
  {
   "cell_type": "markdown",
   "metadata": {},
   "source": [
    "# For a directly reachable IP address"
   ]
  },
  {
   "cell_type": "code",
   "execution_count": null,
   "metadata": {},
   "outputs": [],
   "source": [
    "nm = nmap.PortScanner() \n",
    "nm.scan('127.0.0.1', '22-443',arguments=\"-O\")      # scan host 127.0.0.1, ports from 22 to 443\n",
    "nm.command_line()                   # get command line used for the scan : nmap -oX - -p 22-443 127.0.0.1\n",
    "nm.scaninfo()                       # get nmap scan informations {'tcp': {'services': '22-443', 'method': 'connect'}}\n",
    "nm.all_hosts()                      # get all hosts that were scanned\n",
    "#nm['127.0.0.1'].hostname()          # get one hostname for host 127.0.0.1, usualy the user record\n",
    "nm['127.0.0.1'].hostnames()         # get list of hostnames for host 127.0.0.1 as a list of dict [{'name':'hostname1', 'type':'PTR'}, {'name':'hostname2', 'type':'user'}]\n",
    "nm['127.0.0.1'].state()             # get state of host 127.0.0.1 (up|down|unknown|skipped) \n",
    "nm['127.0.0.1'].all_protocols()     # get all scanned protocols ['tcp', 'udp'] in (ip|tcp|udp|sctp)\n",
    "if ('tcp' in nm['127.0.0.1']):\n",
    "    list(nm['127.0.0.1']['tcp'].keys()) # get all ports for tcp protocol\n",
    "\n",
    "nm['127.0.0.1'].all_tcp()           # get all ports for tcp protocol (sorted version)\n",
    "nm['127.0.0.1'].all_udp()           # get all ports for udp protocol (sorted version)\n",
    "nm['127.0.0.1'].all_ip()            # get all ports for ip protocol (sorted version)\n",
    "nm['127.0.0.1'].all_sctp()          # get all ports for sctp protocol (sorted version)\n",
    "if nm['127.0.0.1'].has_tcp(22):     # is there any information for port 22/tcp on host 127.0.0.1\n",
    "    nm['127.0.0.1']['tcp'][22]          # get infos about port 22 in tcp on host 127.0.0.1\n",
    "    nm['127.0.0.1'].tcp(22)             # get infos about port 22 in tcp on host 127.0.0.1\n",
    "    nm['127.0.0.1']['tcp'][22]['state'] # get state of port 22/tcp on host 127.0.0.1 (open\n",
    "\n",
    "\n",
    "# a more usefull example :\n",
    "for host in nm.all_hosts():\n",
    "    print('----------------------------------------------------')\n",
    "    print('Host : {0} ({1})'.format(host, nm[host].hostname()))\n",
    "    print('State : {0}'.format(nm[host].state()))\n",
    "\n",
    "    for proto in nm[host].all_protocols():\n",
    "        print('----------')\n",
    "        print('Protocol : {0}'.format(proto))\n",
    "\n",
    "        lport = list(nm[host][proto].keys())\n",
    "        lport.sort()\n",
    "        for port in lport:\n",
    "            print('port : {0}\\tstate : {1}'.format(port, nm[host][proto][port]))\n",
    "\n",
    "\n",
    "print('----------------------------------------------------')\n",
    "# print result as CSV\n",
    "print(nm.csv())\n",
    "\n",
    "\n",
    "\n",
    "print('----------------------------------------------------')\n",
    "# If you want to do a pingsweep on network 192.168.1.0/24:\n",
    "nm.scan(hosts='192.168.0.0/24', arguments='-n -sP -PE -PA21,23,80,3389')\n",
    "hosts_list = [(x, nm[x]['status']['state']) for x in nm.all_hosts()]\n",
    "for host, status in hosts_list:\n",
    "    print('{0}:{1}'.format(host, status))\n",
    "\n",
    "\n",
    "\n",
    "\n",
    "\n",
    "print('----------------------------------------------------')\n",
    "# Asynchronous usage of PortScannerAsync\n",
    "\n",
    "\n",
    "nma = nmap.PortScannerAsync()\n",
    "\n",
    "def callback_result(host, scan_result):\n",
    "    print('------------------')\n",
    "    print(host, scan_result)\n",
    "\n",
    "nma.scan(hosts='192.168.0.0/30', arguments='-sP', callback=callback_result)\n",
    "\n",
    "while nma.still_scanning():\n",
    "    print(\"Waiting ...\")\n",
    "    nma.wait(2)   # you can do whatever you want but I choose to wait after the end of the scan\n",
    "\n",
    "if (True):\n",
    "    print('----------------------------------------------------')\n",
    "    # Os detection (need root privileges)\n",
    "    nm.scan(\"127.0.0.1\", arguments=\"-O\")\n",
    "    if 'osclass' in nm['127.0.0.1']:\n",
    "        for osclass in nm['127.0.0.1']['osclass']:\n",
    "            print('OsClass.type : {0}'.format(osclass['type']))\n",
    "            print('OsClass.vendor : {0}'.format(osclass['vendor']))\n",
    "            print('OsClass.osfamily : {0}'.format(osclass['osfamily']))\n",
    "            print('OsClass.osgen : {0}'.format(osclass['osgen']))\n",
    "            print('OsClass.accuracy : {0}'.format(osclass['accuracy']))\n",
    "            print('')\n",
    "\n",
    "    if 'osmatch' in nm['127.0.0.1']:\n",
    "        for osmatch in nm['127.0.0.1']['osmatch']:\n",
    "            print('OsMatch.name : {0}'.format(osclass['name']))\n",
    "            print('OsMatch.accuracy : {0}'.format(osclass['accuracy']))\n",
    "            print('OsMatch.line : {0}'.format(osclass['line']))\n",
    "            print('')\n",
    "\n",
    "    if 'fingerprint' in nm['127.0.0.1']:\n",
    "        print('Fingerprint : {0}'.format(nm['127.0.0.1']['fingerprint']))\n",
    "\n",
    "\n",
    "    # Vendor list for MAC address\n",
    "    nm.scan('192.168.0.0/24', arguments='-O')\n",
    "    for h in nm.all_hosts():\n",
    "        if 'mac' in nm[h]['addresses']:\n",
    "            print(nm[h]['addresses'], nm[h]['vendor'])\n",
    "\n",
    "\n",
    "\n",
    "print('----------------------------------------------------')\n",
    "# Read output captured to a file\n",
    "# Example : nmap -oX - -p 22-443 -sV 127.0.0.1 > nmap_output.xml\n",
    "\n",
    "print(nm.csv())\n",
    "\n",
    "\n",
    "\n",
    "print('----------------------------------------------------')\n",
    "# Progressive scan with generator\n",
    "nm = nmap.PortScannerYield()\n",
    "for progressive_result in nm.scan('127.0.0.1/24', '22-25'):\n",
    "    print(progressive_result)"
   ]
  },
  {
   "cell_type": "markdown",
   "metadata": {},
   "source": [
    "# For packet's Source IP and Source Port Number"
   ]
  },
  {
   "cell_type": "code",
   "execution_count": null,
   "metadata": {},
   "outputs": [],
   "source": [
    "nm = nmap.PortScanner() \n",
    "nm.scan(sourceAddress, str(source_port),arguments=\"-O\")      # scan host 127.0.0.1, ports from 22 to 443\n",
    "nm.command_line()                   # get command line used for the scan : nmap -oX - -p 22-443 127.0.0.1\n",
    "nm.scaninfo()                       # get nmap scan informations {'tcp': {'services': '22-443', 'method': 'connect'}}\n",
    "nm.all_hosts()                      # get all hosts that were scanned\n",
    "#nm[sourceAddress].hostname()          # get one hostname for host 127.0.0.1, usualy the user record\n",
    "nm[sourceAddress].hostnames()         # get list of hostnames for host 127.0.0.1 as a list of dict [{'name':'hostname1', 'type':'PTR'}, {'name':'hostname2', 'type':'user'}]\n",
    "nm[sourceAddress].state()             # get state of host 127.0.0.1 (up|down|unknown|skipped) \n",
    "nm[sourceAddress].all_protocols()     # get all scanned protocols ['tcp', 'udp'] in (ip|tcp|udp|sctp)\n",
    "if ('tcp' in nm[sourceAddress]):\n",
    "    list(nm[sourceAddress]['tcp'].keys()) # get all ports for tcp protocol\n",
    "\n",
    "nm[sourceAddress].all_tcp()           # get all ports for tcp protocol (sorted version)\n",
    "nm[sourceAddress].all_udp()           # get all ports for udp protocol (sorted version)\n",
    "nm[sourceAddress].all_ip()            # get all ports for ip protocol (sorted version)\n",
    "nm[sourceAddress].all_sctp()          # get all ports for sctp protocol (sorted version)\n",
    "if nm[sourceAddress].has_tcp(22):     # is there any information for port 22/tcp on host 127.0.0.1\n",
    "    nm[sourceAddress]['tcp'][22]          # get infos about port 22 in tcp on host 127.0.0.1\n",
    "    nm[sourceAddress].tcp(22)             # get infos about port 22 in tcp on host 127.0.0.1\n",
    "    nm[sourceAddress]['tcp'][22]['state'] # get state of port 22/tcp on host 127.0.0.1 (open\n",
    "\n",
    "\n",
    "# a more usefull example :\n",
    "for host in nm.all_hosts():\n",
    "    print('----------------------------------------------------')\n",
    "    print('Host : {0} ({1})'.format(host, nm[host].hostname()))\n",
    "    print('State : {0}'.format(nm[host].state()))\n",
    "    #print('State : {0}'.format(nm[host].os()))\n",
    "\n",
    "    for proto in nm[host].all_protocols():\n",
    "        print('----------')\n",
    "        print('Protocol : {0}'.format(proto))\n",
    "\n",
    "        lport = list(nm[host][proto].keys())\n",
    "        lport.sort()\n",
    "        for port in lport:\n",
    "            print('port : {0}\\tstate : {1}'.format(port, nm[host][proto][port]))\n",
    "\n",
    "\n",
    "print('----------------------------------------------------')\n",
    "# print result as CSV\n",
    "print(nm.csv())\n",
    "\n",
    "\n",
    "\n",
    "print('----------------------------------------------------')\n",
    "# If you want to do a pingsweep on network 192.168.1.0/24:\n",
    "nm.scan(hosts=sourceAddress/24, arguments='-n -sP -PE -PA21,23,80,3389')\n",
    "hosts_list = [(x, nm[x]['status']['state']) for x in nm.all_hosts()]\n",
    "for host, status in hosts_list:\n",
    "    print('{0}:{1}'.format(host, status))\n",
    "\n",
    "\n",
    "\n",
    "\n",
    "\n",
    "print('----------------------------------------------------')\n",
    "# Asynchronous usage of PortScannerAsync\n",
    "\n",
    "\n",
    "nma = nmap.PortScannerAsync()\n",
    "\n",
    "def callback_result(host, scan_result):\n",
    "    print('------------------')\n",
    "    print(host, scan_result)\n",
    "\n",
    "nma.scan(hosts='192.168.0.0/30', arguments='-sP', callback=callback_result)\n",
    "\n",
    "while nma.still_scanning():\n",
    "    print(\"Waiting ...\")\n",
    "    nma.wait(2)   # you can do whatever you want but I choose to wait after the end of the scan\n",
    "\n",
    "#if (os.getuid() == 0):\n",
    "print('----------------------------------------------------')\n",
    "# Os detection (need root privileges)\n",
    "nm.scan(sourceAddress, arguments=\"-O\")\n",
    "if 'osclass' in nm[sourceAddress]:\n",
    "    for osclass in nm[sourceAddress]['osclass']:\n",
    "        print('OsClass.type : {0}'.format(osclass['type']))\n",
    "        print('OsClass.vendor : {0}'.format(osclass['vendor']))\n",
    "        print('OsClass.osfamily : {0}'.format(osclass['osfamily']))\n",
    "        print('OsClass.osgen : {0}'.format(osclass['osgen']))\n",
    "        print('OsClass.accuracy : {0}'.format(osclass['accuracy']))\n",
    "        print('')\n",
    "\n",
    "if 'osmatch' in nm[sourceAddress]:\n",
    "    for osmatch in nm[sourceAddress]['osmatch']:\n",
    "        print('OsMatch.name : {0}'.format(osclass['name']))\n",
    "        print('OsMatch.accuracy : {0}'.format(osclass['accuracy']))\n",
    "        print('OsMatch.line : {0}'.format(osclass['line']))\n",
    "        print('')\n",
    "\n",
    "if 'fingerprint' in nm[sourceAddress]:\n",
    "    print('Fingerprint : {0}'.format(nm[sourceAddress]['fingerprint']))\n",
    "\n",
    "\n",
    "# Vendor list for MAC address\n",
    "nm.scan(sourceAddress/24, arguments='-O')\n",
    "for h in nm.all_hosts():\n",
    "    if 'mac' in nm[h]['addresses']:\n",
    "        print(nm[h]['addresses'], nm[h]['vendor'])\n",
    "\n",
    "        \n",
    "print('----------------------------------------------------')\n",
    "# Read output captured to a file\n",
    "# Example : nmap -oX - -p 22-443 -sV 127.0.0.1 > nmap_output.xml\n",
    "\n",
    "\n",
    "print(nm.csv())\n",
    "\n",
    "\n",
    "\n",
    "\n",
    "print('----------------------------------------------------')\n",
    "# Progressive scan with generator\n",
    "\n",
    "nm = nmap.PortScannerYield()\n",
    "for progressive_result in nm.scan(sourceAddress/24, '22-25'):\n",
    "    print(progressive_result)"
   ]
  },
  {
   "cell_type": "code",
   "execution_count": null,
   "metadata": {
    "collapsed": true
   },
   "outputs": [],
   "source": []
  }
 ],
 "metadata": {
  "kernelspec": {
   "display_name": "Python 3",
   "language": "python",
   "name": "python3"
  },
  "language_info": {
   "codemirror_mode": {
    "name": "ipython",
    "version": 3
   },
   "file_extension": ".py",
   "mimetype": "text/x-python",
   "name": "python",
   "nbconvert_exporter": "python",
   "pygments_lexer": "ipython3",
   "version": "3.6.5"
  }
 },
 "nbformat": 4,
 "nbformat_minor": 2
}
